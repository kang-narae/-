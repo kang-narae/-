{
 "cells": [
  {
   "cell_type": "code",
   "execution_count": null,
   "id": "4d371f46",
   "metadata": {},
   "outputs": [],
   "source": [
    "'''\n",
    "수학에서 벡터는 \n",
    "면과 면 사이, 선과 선 사이의 각을 구했었음.\n",
    "기하학, 도형에서의 관점.\n",
    "평면도형에서는 2차원 벡터,\n",
    "입체에서는 3차원 벡터.\n",
    "\n",
    "\n",
    "데이터분석에서의 벡터는\n",
    "데이터 관점.\n",
    "\n",
    "벡터 곱셈에는 여러 방법이 있는데, 그 중 내적을 배울 거임.\n",
    "\n",
    "'''"
   ]
  },
  {
   "cell_type": "code",
   "execution_count": 2,
   "id": "e1265779",
   "metadata": {},
   "outputs": [
    {
     "data": {
      "text/plain": [
       "array([[1],\n",
       "       [2],\n",
       "       [3]])"
      ]
     },
     "execution_count": 2,
     "metadata": {},
     "output_type": "execute_result"
    }
   ],
   "source": [
    "import numpy as np\n",
    "\n",
    "x=np.array([[1],[2],[3]])\n",
    "x"
   ]
  },
  {
   "cell_type": "code",
   "execution_count": 3,
   "id": "e5b2c8e3",
   "metadata": {},
   "outputs": [],
   "source": [
    "y=np.array([[10],[100],[1000]])"
   ]
  },
  {
   "cell_type": "code",
   "execution_count": 4,
   "id": "a46fb35c",
   "metadata": {},
   "outputs": [
    {
     "data": {
      "text/plain": [
       "array([[  10],\n",
       "       [ 100],\n",
       "       [1000]])"
      ]
     },
     "execution_count": 4,
     "metadata": {},
     "output_type": "execute_result"
    }
   ],
   "source": [
    "y"
   ]
  },
  {
   "cell_type": "code",
   "execution_count": 5,
   "id": "c87acd5a",
   "metadata": {},
   "outputs": [
    {
     "ename": "ValueError",
     "evalue": "shapes (3,1) and (3,1) not aligned: 1 (dim 1) != 3 (dim 0)",
     "output_type": "error",
     "traceback": [
      "\u001b[1;31m---------------------------------------------------------------------------\u001b[0m",
      "\u001b[1;31mValueError\u001b[0m                                Traceback (most recent call last)",
      "\u001b[1;32mC:\\Users\\Public\\Documents\\ESTsoft\\CreatorTemp/ipykernel_23428/2334211530.py\u001b[0m in \u001b[0;36m<module>\u001b[1;34m\u001b[0m\n\u001b[1;32m----> 1\u001b[1;33m \u001b[0mnp\u001b[0m\u001b[1;33m.\u001b[0m\u001b[0mdot\u001b[0m\u001b[1;33m(\u001b[0m\u001b[0mx\u001b[0m\u001b[1;33m,\u001b[0m\u001b[0my\u001b[0m\u001b[1;33m)\u001b[0m \u001b[1;31m#에러남.  열벡터 열벡터 곱은 안 됨.\u001b[0m\u001b[1;33m\u001b[0m\u001b[1;33m\u001b[0m\u001b[0m\n\u001b[0m",
      "\u001b[1;32m<__array_function__ internals>\u001b[0m in \u001b[0;36mdot\u001b[1;34m(*args, **kwargs)\u001b[0m\n",
      "\u001b[1;31mValueError\u001b[0m: shapes (3,1) and (3,1) not aligned: 1 (dim 1) != 3 (dim 0)"
     ]
    }
   ],
   "source": [
    "np.dot(x,y) #에러남.  열벡터 열벡터 곱은 안 됨."
   ]
  },
  {
   "cell_type": "code",
   "execution_count": 6,
   "id": "3f19b153",
   "metadata": {},
   "outputs": [
    {
     "data": {
      "text/plain": [
       "array([[3210]])"
      ]
     },
     "execution_count": 6,
     "metadata": {},
     "output_type": "execute_result"
    }
   ],
   "source": [
    "np.dot(x.T,y)"
   ]
  },
  {
   "cell_type": "code",
   "execution_count": 7,
   "id": "5d6cc6a8",
   "metadata": {},
   "outputs": [
    {
     "data": {
      "text/plain": [
       "array([[3210]])"
      ]
     },
     "execution_count": 7,
     "metadata": {},
     "output_type": "execute_result"
    }
   ],
   "source": [
    "x.T@y   #@ (엣)으로도 내적 연산 가능"
   ]
  },
  {
   "cell_type": "code",
   "execution_count": 9,
   "id": "4b26c443",
   "metadata": {},
   "outputs": [],
   "source": [
    "x=np.array([1,2,3]) #행벡터\n",
    "y=np.array([1000,100,10]) #행벡터"
   ]
  },
  {
   "cell_type": "code",
   "execution_count": 10,
   "id": "e20254a6",
   "metadata": {},
   "outputs": [
    {
     "data": {
      "text/plain": [
       "1230"
      ]
     },
     "execution_count": 10,
     "metadata": {},
     "output_type": "execute_result"
    }
   ],
   "source": [
    "'''벡터의 곱 하려면 행벡터 x 열벡터여야 함 (?)'''\n",
    "\n",
    "np.dot(x,y)"
   ]
  },
  {
   "cell_type": "code",
   "execution_count": null,
   "id": "8025f623",
   "metadata": {},
   "outputs": [],
   "source": [
    "'''\n",
    "엥?\n",
    "됐네?\n",
    "\n",
    "원래 안 되는 게 원칙인데\n",
    "numpy가 1차원 배열끼리도 내적을 계산해 준 거임.\n",
    "앞에껀 행이고 뒤에껀 열이라고 가정해서 계산 해버림.\n",
    "\n",
    "'''"
   ]
  }
 ],
 "metadata": {
  "kernelspec": {
   "display_name": "Python 3 (ipykernel)",
   "language": "python",
   "name": "python3"
  },
  "language_info": {
   "codemirror_mode": {
    "name": "ipython",
    "version": 3
   },
   "file_extension": ".py",
   "mimetype": "text/x-python",
   "name": "python",
   "nbconvert_exporter": "python",
   "pygments_lexer": "ipython3",
   "version": "3.9.7"
  }
 },
 "nbformat": 4,
 "nbformat_minor": 5
}
