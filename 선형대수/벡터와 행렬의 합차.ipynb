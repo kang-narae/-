{
 "cells": [
  {
   "cell_type": "code",
   "execution_count": null,
   "id": "8ad2aa1e",
   "metadata": {},
   "outputs": [],
   "source": [
    "\n",
    "'''\n",
    "선형대수의 주인공은 벡터다.\n",
    "이 벡터를 여러개 묶으면 행렬이고.\n",
    "엄밀히 말하면 벡터도 행렬이고!\n",
    "\n",
    "'''\n",
    "\n",
    "\n",
    "'''\n",
    "벡터끼리의 덧셈은 차원 (크기)가 같아야함.\n",
    "덧셈뺄셈은 같은 위치의 성분끼리 계산하니까.  = 요소별 연산.\n",
    "'''"
   ]
  },
  {
   "cell_type": "code",
   "execution_count": 1,
   "id": "373f9c20",
   "metadata": {},
   "outputs": [
    {
     "data": {
      "text/plain": [
       "array([1, 2, 3, 4])"
      ]
     },
     "execution_count": 1,
     "metadata": {},
     "output_type": "execute_result"
    }
   ],
   "source": [
    "import numpy as np\n",
    "\n",
    "#'열'벡터 만들어봅시다\n",
    "x= np.array([1,2,3,4])  #이건 행벡터고, 행벡터 전치해도 안됨.\n",
    "x"
   ]
  },
  {
   "cell_type": "code",
   "execution_count": 3,
   "id": "7dfb98a3",
   "metadata": {},
   "outputs": [
    {
     "data": {
      "text/plain": [
       "array([1, 2, 3, 4])"
      ]
     },
     "execution_count": 3,
     "metadata": {},
     "output_type": "execute_result"
    }
   ],
   "source": [
    "x.T"
   ]
  },
  {
   "cell_type": "code",
   "execution_count": 5,
   "id": "97ee557e",
   "metadata": {},
   "outputs": [
    {
     "data": {
      "text/plain": [
       "array([[1],\n",
       "       [2],\n",
       "       [3],\n",
       "       [4]])"
      ]
     },
     "execution_count": 5,
     "metadata": {},
     "output_type": "execute_result"
    }
   ],
   "source": [
    "x=np.array([[1,2,3,4]])   #2차원으로 만듦. 그럼 1행4열의 2차원배열인 행렬이 됨.\n",
    "x.T #그리고 나서 전치 하면 열벡터 됨!"
   ]
  },
  {
   "cell_type": "code",
   "execution_count": 6,
   "id": "1de53508",
   "metadata": {},
   "outputs": [],
   "source": [
    "y= np.array([[10,20,30,40]]).T"
   ]
  },
  {
   "cell_type": "code",
   "execution_count": 7,
   "id": "4099788d",
   "metadata": {},
   "outputs": [
    {
     "data": {
      "text/plain": [
       "array([[10],\n",
       "       [20],\n",
       "       [30],\n",
       "       [40]])"
      ]
     },
     "execution_count": 7,
     "metadata": {},
     "output_type": "execute_result"
    }
   ],
   "source": [
    "y"
   ]
  },
  {
   "cell_type": "code",
   "execution_count": 9,
   "id": "5b3b3111",
   "metadata": {},
   "outputs": [
    {
     "data": {
      "text/plain": [
       "array([[11],\n",
       "       [22],\n",
       "       [33],\n",
       "       [44]])"
      ]
     },
     "execution_count": 9,
     "metadata": {},
     "output_type": "execute_result"
    }
   ],
   "source": [
    "x.T+y"
   ]
  },
  {
   "cell_type": "code",
   "execution_count": 11,
   "id": "fcb15605",
   "metadata": {},
   "outputs": [
    {
     "data": {
      "text/plain": [
       "array([[ 3],\n",
       "       [ 6],\n",
       "       [ 9],\n",
       "       [12]])"
      ]
     },
     "execution_count": 11,
     "metadata": {},
     "output_type": "execute_result"
    }
   ],
   "source": [
    "3* x.T"
   ]
  },
  {
   "cell_type": "code",
   "execution_count": 12,
   "id": "86e265de",
   "metadata": {},
   "outputs": [
    {
     "data": {
      "text/plain": [
       "array([[4],\n",
       "       [5],\n",
       "       [6],\n",
       "       [7]])"
      ]
     },
     "execution_count": 12,
     "metadata": {},
     "output_type": "execute_result"
    }
   ],
   "source": [
    "'''\n",
    "수학적으로는\n",
    "원칙적으로는\n",
    "실수 스칼라와  벡터는 덧셈뺄셈이 안된다. (곱은 됨)\n",
    "그런데 데이터분석, 프로그래밍 언어에서는\n",
    "스칼라(실수)와 벡터의 덧셈뺄셈 시\n",
    "스칼라를 브로드캐스팅 해서 연산하게 함.\n",
    "\n",
    "왜냐하면\n",
    "데이터분석 할 때\n",
    "평균값 빼줄 떄 (?) 브로드캐스팅 연산이 필요하기 때문.\n",
    "\n",
    "'''\n",
    "\n",
    "3+ x.T"
   ]
  },
  {
   "cell_type": "code",
   "execution_count": null,
   "id": "de8d1201",
   "metadata": {},
   "outputs": [],
   "source": [
    "\n",
    "#선형조합\n",
    "#여러 벡터에 각각 실수배를 한 결과를 더하거나 빼서 새로운 벡터를 만들 수 있다.\n",
    "#단 이때의 여러 벡터는 동일한 차원이어야 한다.\n"
   ]
  }
 ],
 "metadata": {
  "kernelspec": {
   "display_name": "Python 3 (ipykernel)",
   "language": "python",
   "name": "python3"
  },
  "language_info": {
   "codemirror_mode": {
    "name": "ipython",
    "version": 3
   },
   "file_extension": ".py",
   "mimetype": "text/x-python",
   "name": "python",
   "nbconvert_exporter": "python",
   "pygments_lexer": "ipython3",
   "version": "3.9.7"
  }
 },
 "nbformat": 4,
 "nbformat_minor": 5
}
