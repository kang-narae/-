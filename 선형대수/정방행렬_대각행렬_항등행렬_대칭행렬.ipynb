{
 "cells": [
  {
   "cell_type": "code",
   "execution_count": null,
   "id": "3c891bd5",
   "metadata": {},
   "outputs": [],
   "source": [
    "#특수한 형태의 행렬들\n",
    "'''\n",
    "정방행렬 \n",
    "square matrix\n",
    "열의 개수와 행의 개수가 동일한 행렬\n",
    "\n",
    "\n",
    "대각행렬\n",
    "diagonal matrix    / diagonal = 대각선\n",
    "행과 열의 인덱스가 같은 성분 = 대각성분.\n",
    "나머지가 비대각성분.\n",
    "비대각성분이 다 0인 행렬.\n",
    "항상 정방행렬일 필요 없음.\n",
    "\n",
    "\n",
    "항등행렬\n",
    "identitiy matrix\n",
    "대각성분이 모두 1이고\n",
    "비대각성분이 모두 0인 행렬\n",
    "항등행렬은 반드시 정방행렬이며 대각행렬 안에 속한다.\n",
    "\n",
    "\n",
    "대칭행렬\n",
    "symmetric matrix\n",
    "원행렬을 전치한 전치행렬이 같은 경우, 그 행렬.\n",
    "전치행렬 만들 때\n",
    "원행렬의 대각성분은 행과 열 인덱스가 같으니까 그대로 있고\n",
    "비대각성분들이 행열 인덱스 바뀌는 거지.\n",
    "그러면 (전치하면) m행n열 성분이 n행m열 위치로 가고, n행m열 성분이 m행n열 위치로 가는데\n",
    "이게 같다는 거니까\n",
    "m행n열 성분이 = n행m열 성분과 같은 행렬이 대칭행렬이다.\n",
    "\n",
    "\n",
    "\n",
    "'''"
   ]
  }
 ],
 "metadata": {
  "kernelspec": {
   "display_name": "Python 3 (ipykernel)",
   "language": "python",
   "name": "python3"
  },
  "language_info": {
   "codemirror_mode": {
    "name": "ipython",
    "version": 3
   },
   "file_extension": ".py",
   "mimetype": "text/x-python",
   "name": "python",
   "nbconvert_exporter": "python",
   "pygments_lexer": "ipython3",
   "version": "3.9.7"
  }
 },
 "nbformat": 4,
 "nbformat_minor": 5
}
