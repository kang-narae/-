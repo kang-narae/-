{
 "cells": [
  {
   "cell_type": "code",
   "execution_count": 1,
   "id": "90bac134",
   "metadata": {},
   "outputs": [
    {
     "data": {
      "text/plain": [
       "array([[0., 0., 0., 0., 0.],\n",
       "       [0., 0., 0., 0., 0.],\n",
       "       [0., 0., 0., 0., 0.]])"
      ]
     },
     "execution_count": 1,
     "metadata": {},
     "output_type": "execute_result"
    }
   ],
   "source": [
    "import numpy as np\n",
    "np.zeros((3,5))  #3행 5열 행렬이 나옴.모든 원소가 0인.."
   ]
  },
  {
   "cell_type": "code",
   "execution_count": 2,
   "id": "87b86a3c",
   "metadata": {},
   "outputs": [
    {
     "data": {
      "text/plain": [
       "array([[0.],\n",
       "       [0.],\n",
       "       [0.],\n",
       "       [0.],\n",
       "       [0.]])"
      ]
     },
     "execution_count": 2,
     "metadata": {},
     "output_type": "execute_result"
    }
   ],
   "source": [
    "#np.zeros((N, 1))   #벡터를 만들고 싶으면.. (행렬이 아니고 벡터? 정확히는.. 행렬 중에서 벡터가 아닌 행렬 말고, 벡터.)\n",
    "#열벡터를 만들려면 열에 1을 넣음\n",
    "np.zeros((5,1)) #모든 원소가 0인 5차원 열벡터. (2차원 배열.)"
   ]
  },
  {
   "cell_type": "code",
   "execution_count": 3,
   "id": "83c078a3",
   "metadata": {},
   "outputs": [
    {
     "data": {
      "text/plain": [
       "array([[1.],\n",
       "       [1.],\n",
       "       [1.]])"
      ]
     },
     "execution_count": 3,
     "metadata": {},
     "output_type": "execute_result"
    }
   ],
   "source": [
    "np.ones((3,1))  #이건 일벡터"
   ]
  },
  {
   "cell_type": "code",
   "execution_count": null,
   "id": "9cb5ae73",
   "metadata": {},
   "outputs": [],
   "source": []
  }
 ],
 "metadata": {
  "kernelspec": {
   "display_name": "Python 3 (ipykernel)",
   "language": "python",
   "name": "python3"
  },
  "language_info": {
   "codemirror_mode": {
    "name": "ipython",
    "version": 3
   },
   "file_extension": ".py",
   "mimetype": "text/x-python",
   "name": "python",
   "nbconvert_exporter": "python",
   "pygments_lexer": "ipython3",
   "version": "3.9.7"
  }
 },
 "nbformat": 4,
 "nbformat_minor": 5
}
