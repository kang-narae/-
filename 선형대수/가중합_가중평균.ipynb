{
 "cells": [
  {
   "cell_type": "code",
   "execution_count": null,
   "id": "fc507c25",
   "metadata": {},
   "outputs": [],
   "source": [
    "'''\n",
    "가중합은 벡터의 내적으로 계산한다.\n",
    "가중치를 곱한 것의 합\n",
    "벡터를 가중치벡터와 내적.\n",
    "\n",
    "\n",
    "가중평균은 . ..  \n",
    "가중치를 곱한 것의 평균.\n",
    "가중치를 곱한 것의 합(가중합)을 '가중치의 합'으로 나눔.\n",
    "\n",
    "\n",
    "'''"
   ]
  },
  {
   "cell_type": "code",
   "execution_count": 3,
   "id": "6cff6326",
   "metadata": {},
   "outputs": [
    {
     "data": {
      "text/plain": [
       "array([[70, 75, 60]])"
      ]
     },
     "execution_count": 3,
     "metadata": {},
     "output_type": "execute_result"
    }
   ],
   "source": [
    "import numpy as np\n",
    "\n",
    "x= np.array([[70,75,60]])\n",
    "x  #2차원 배열인 행벡터.  1x3 행렬"
   ]
  },
  {
   "cell_type": "code",
   "execution_count": 4,
   "id": "ca8ca851",
   "metadata": {},
   "outputs": [
    {
     "data": {
      "text/plain": [
       "array([[2, 3, 5]])"
      ]
     },
     "execution_count": 4,
     "metadata": {},
     "output_type": "execute_result"
    }
   ],
   "source": [
    "y= np.array([[2,3,5]])\n",
    "y   #2차원 배열인 행벡터."
   ]
  },
  {
   "cell_type": "code",
   "execution_count": 5,
   "id": "0fec1ad4",
   "metadata": {},
   "outputs": [
    {
     "ename": "ValueError",
     "evalue": "shapes (1,3) and (1,3) not aligned: 3 (dim 1) != 1 (dim 0)",
     "output_type": "error",
     "traceback": [
      "\u001b[1;31m---------------------------------------------------------------------------\u001b[0m",
      "\u001b[1;31mValueError\u001b[0m                                Traceback (most recent call last)",
      "\u001b[1;32mC:\\Users\\Public\\Documents\\ESTsoft\\CreatorTemp/ipykernel_4360/2444221963.py\u001b[0m in \u001b[0;36m<module>\u001b[1;34m\u001b[0m\n\u001b[0;32m      1\u001b[0m \u001b[1;31m#x와 y를 내적하자\u001b[0m\u001b[1;33m\u001b[0m\u001b[1;33m\u001b[0m\u001b[0m\n\u001b[1;32m----> 2\u001b[1;33m \u001b[0mnp\u001b[0m\u001b[1;33m.\u001b[0m\u001b[0mdot\u001b[0m\u001b[1;33m(\u001b[0m\u001b[0mx\u001b[0m\u001b[1;33m,\u001b[0m\u001b[0my\u001b[0m\u001b[1;33m)\u001b[0m\u001b[1;33m\u001b[0m\u001b[1;33m\u001b[0m\u001b[0m\n\u001b[0m",
      "\u001b[1;32m<__array_function__ internals>\u001b[0m in \u001b[0;36mdot\u001b[1;34m(*args, **kwargs)\u001b[0m\n",
      "\u001b[1;31mValueError\u001b[0m: shapes (1,3) and (1,3) not aligned: 3 (dim 1) != 1 (dim 0)"
     ]
    }
   ],
   "source": [
    "#x와 y를 내적하자\n",
    "np.dot(x,y) #에러남. 행이랑 행이잖아.. 행x열 해야되지 내적하려면."
   ]
  },
  {
   "cell_type": "code",
   "execution_count": 6,
   "id": "c8280b7f",
   "metadata": {},
   "outputs": [
    {
     "data": {
      "text/plain": [
       "array([[665]])"
      ]
     },
     "execution_count": 6,
     "metadata": {},
     "output_type": "execute_result"
    }
   ],
   "source": [
    "np.dot(x,y.T)   #y를 2차원으로 만들어놨으니까 전치할 수 있지.\n",
    "#가중합 구한 거임."
   ]
  },
  {
   "cell_type": "code",
   "execution_count": 7,
   "id": "d7371152",
   "metadata": {},
   "outputs": [
    {
     "data": {
      "text/plain": [
       "10"
      ]
     },
     "execution_count": 7,
     "metadata": {},
     "output_type": "execute_result"
    }
   ],
   "source": [
    "#이제 가중평균 구하자.\n",
    "\n",
    "y.sum() #가중치합"
   ]
  },
  {
   "cell_type": "code",
   "execution_count": 8,
   "id": "dd9cd398",
   "metadata": {},
   "outputs": [
    {
     "data": {
      "text/plain": [
       "array([[66.5]])"
      ]
     },
     "execution_count": 8,
     "metadata": {},
     "output_type": "execute_result"
    }
   ],
   "source": [
    "np.dot(x, y.T)/ y.sum()  #가중합을 가중치합으로 나눈 가중평균"
   ]
  },
  {
   "cell_type": "code",
   "execution_count": 9,
   "id": "51b960a4",
   "metadata": {},
   "outputs": [
    {
     "data": {
      "text/plain": [
       "665"
      ]
     },
     "execution_count": 9,
     "metadata": {},
     "output_type": "execute_result"
    }
   ],
   "source": [
    "'''근데..\n",
    "1차원 배열인 행벡터끼리는 내적이 예외적으로 됐었지.'''\n",
    "\n",
    "x=np.array([70,75,60])\n",
    "y=np.array([2,3,5])\n",
    "np.dot(x,y)"
   ]
  },
  {
   "cell_type": "code",
   "execution_count": null,
   "id": "9476d832",
   "metadata": {},
   "outputs": [],
   "source": []
  }
 ],
 "metadata": {
  "kernelspec": {
   "display_name": "Python 3 (ipykernel)",
   "language": "python",
   "name": "python3"
  },
  "language_info": {
   "codemirror_mode": {
    "name": "ipython",
    "version": 3
   },
   "file_extension": ".py",
   "mimetype": "text/x-python",
   "name": "python",
   "nbconvert_exporter": "python",
   "pygments_lexer": "ipython3",
   "version": "3.9.7"
  }
 },
 "nbformat": 4,
 "nbformat_minor": 5
}
